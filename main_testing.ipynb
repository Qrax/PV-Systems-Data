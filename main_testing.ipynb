{
 "cells": [
  {
   "cell_type": "code",
   "id": "initial_id",
   "metadata": {
    "collapsed": true,
    "ExecuteTime": {
     "end_time": "2024-12-04T14:02:56.096802Z",
     "start_time": "2024-12-04T14:02:46.225769Z"
    }
   },
   "source": [
    "import os\n",
    "import pandas as pd\n",
    "from pathlib import Path\n",
    "\n",
    "# Function to load the data with enhanced debugging and path consistency\n",
    "def load_data(base_path, selected_months, selected_csvs, debug=False):\n",
    "    # Ensure the base path is normalized\n",
    "    base_path = Path(base_path)\n",
    "\n",
    "    # Check if the master folder exists\n",
    "    if debug:\n",
    "        print(f\"Master folder exists: {base_path}: {'Yes' if base_path.is_dir() else 'No'}\")\n",
    "    if not base_path.is_dir():\n",
    "        raise FileNotFoundError(f\"The master folder does not exist: {base_path}\")\n",
    "\n",
    "    data = {}\n",
    "\n",
    "    for month in selected_months:\n",
    "        year, month_number = month.split('_')\n",
    "        year_folder = f\"{year}_V3\"\n",
    "        month_folder = f\"{year}_{month_number}\"\n",
    "        month_path = base_path / year_folder / month_folder  # Use Path for consistency\n",
    "\n",
    "        if debug:\n",
    "            print(f\"Directory exists: {month_path}: {'Yes' if month_path.is_dir() else 'No'}\")\n",
    "\n",
    "        if month_path.is_dir():  # Ensure it is a directory\n",
    "            month_data = {}\n",
    "            for csv_type in selected_csvs:\n",
    "                # Construct the file name, handling the special case for LightSpectra\n",
    "                if csv_type == \"LightSpectra\":\n",
    "                    file_name = f\"{csv_type}- {month_folder}.csv\"  # Add space after the dash\n",
    "                else:\n",
    "                    file_name = f\"{csv_type}-{month_folder}.csv\"\n",
    "\n",
    "                file_path = month_path / file_name  # Use Path for consistency\n",
    "\n",
    "                if debug:\n",
    "                    print(f\"File exists: {file_path}: {'Yes' if file_path.is_file() else 'No'}\")\n",
    "\n",
    "                try:\n",
    "                    # Read the CSV file\n",
    "                    data_frame = pd.read_csv(file_path, low_memory=False)\n",
    "\n",
    "                    # Add metadata columns\n",
    "                    data_frame['Source'] = csv_type\n",
    "                    data_frame['Year'] = year\n",
    "                    data_frame['Month'] = month_number\n",
    "\n",
    "                    # Add to month-level data\n",
    "                    month_data[csv_type] = data_frame\n",
    "\n",
    "                except FileNotFoundError:\n",
    "                    if debug:\n",
    "                        print(f\"File not found error when trying to load: {file_path}\")\n",
    "                    pass\n",
    "\n",
    "            # Add the month data to the corresponding year\n",
    "            if year not in data:\n",
    "                data[year] = {}\n",
    "            data[year][month] = month_data\n",
    "\n",
    "    return data\n",
    "\n",
    "\n",
    "# Base file path\n",
    "base_path = \"../../../OneDrive - HvA/Jaar_4/PV systems modeling and analysis/Data/data_folder\"\n",
    "\n",
    "# Specify the months and CSV types you want to load\n",
    "selected_months = [\"2019_01\", \"2019_02\", \"2022_03\"]  # Include the problematic month\n",
    "selected_csvs = [\"IVCurves\", \"LightSpectra\"]  # Include all desired CSV types\n",
    "\n",
    "# Load the data with debugging enabled\n",
    "loaded_data = load_data(base_path, selected_months, selected_csvs, debug=True)\n",
    "\n",
    "# Display a preview of the loaded data\n",
    "print(\"\\nLoaded Data Structure Overview:\")\n",
    "for year, months in loaded_data.items():\n",
    "    print(f\"Year: {year}\")\n",
    "    for month, month_data in months.items():\n",
    "        print(f\"  Month: {month}\")\n",
    "        for csv_type, df in month_data.items():\n",
    "            print(f\"    {csv_type}: {len(df)} rows\")\n"
   ],
   "outputs": [
    {
     "name": "stdout",
     "output_type": "stream",
     "text": [
      "Master folder exists: ..\\..\\..\\OneDrive - HvA\\Jaar_4\\PV systems modeling and analysis\\Data\\data_folder: Yes\n",
      "Directory exists: ..\\..\\..\\OneDrive - HvA\\Jaar_4\\PV systems modeling and analysis\\Data\\data_folder\\2019_V3\\2019_01: Yes\n",
      "File exists: ..\\..\\..\\OneDrive - HvA\\Jaar_4\\PV systems modeling and analysis\\Data\\data_folder\\2019_V3\\2019_01\\IVCurves-2019_01.csv: Yes\n",
      "File exists: ..\\..\\..\\OneDrive - HvA\\Jaar_4\\PV systems modeling and analysis\\Data\\data_folder\\2019_V3\\2019_01\\LightSpectra- 2019_01.csv: Yes\n",
      "Directory exists: ..\\..\\..\\OneDrive - HvA\\Jaar_4\\PV systems modeling and analysis\\Data\\data_folder\\2019_V3\\2019_02: Yes\n",
      "File exists: ..\\..\\..\\OneDrive - HvA\\Jaar_4\\PV systems modeling and analysis\\Data\\data_folder\\2019_V3\\2019_02\\IVCurves-2019_02.csv: Yes\n",
      "File exists: ..\\..\\..\\OneDrive - HvA\\Jaar_4\\PV systems modeling and analysis\\Data\\data_folder\\2019_V3\\2019_02\\LightSpectra- 2019_02.csv: Yes\n",
      "Directory exists: ..\\..\\..\\OneDrive - HvA\\Jaar_4\\PV systems modeling and analysis\\Data\\data_folder\\2022_V3\\2022_03: Yes\n",
      "File exists: ..\\..\\..\\OneDrive - HvA\\Jaar_4\\PV systems modeling and analysis\\Data\\data_folder\\2022_V3\\2022_03\\IVCurves-2022_03.csv: Yes\n",
      "File exists: ..\\..\\..\\OneDrive - HvA\\Jaar_4\\PV systems modeling and analysis\\Data\\data_folder\\2022_V3\\2022_03\\LightSpectra- 2022_03.csv: Yes\n",
      "\n",
      "Loaded Data Structure Overview:\n",
      "Year: 2019\n",
      "  Month: 2019_01\n",
      "    IVCurves: 8928 rows\n",
      "    LightSpectra: 8928 rows\n",
      "  Month: 2019_02\n",
      "    IVCurves: 8064 rows\n",
      "    LightSpectra: 8064 rows\n",
      "Year: 2022\n",
      "  Month: 2022_03\n",
      "    IVCurves: 8928 rows\n",
      "    LightSpectra: 8928 rows\n"
     ]
    }
   ],
   "execution_count": 31
  },
  {
   "metadata": {
    "ExecuteTime": {
     "end_time": "2024-12-04T13:03:24.021353Z",
     "start_time": "2024-12-04T13:03:24.000364Z"
    }
   },
   "cell_type": "code",
   "source": [
    "#Check if base_path is a directory\n",
    "os.path.isdir(base_path)\n"
   ],
   "id": "47037d3e890b74f4",
   "outputs": [
    {
     "data": {
      "text/plain": [
       "True"
      ]
     },
     "execution_count": 14,
     "metadata": {},
     "output_type": "execute_result"
    }
   ],
   "execution_count": 14
  },
  {
   "metadata": {},
   "cell_type": "code",
   "outputs": [],
   "execution_count": null,
   "source": "",
   "id": "586db6eb125c4726"
  }
 ],
 "metadata": {
  "kernelspec": {
   "display_name": "Python 3",
   "language": "python",
   "name": "python3"
  },
  "language_info": {
   "codemirror_mode": {
    "name": "ipython",
    "version": 2
   },
   "file_extension": ".py",
   "mimetype": "text/x-python",
   "name": "python",
   "nbconvert_exporter": "python",
   "pygments_lexer": "ipython2",
   "version": "2.7.6"
  }
 },
 "nbformat": 4,
 "nbformat_minor": 5
}
