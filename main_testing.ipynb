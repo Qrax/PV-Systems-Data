{
 "cells": [
  {
   "cell_type": "code",
   "id": "initial_id",
   "metadata": {
    "collapsed": true,
    "ExecuteTime": {
     "end_time": "2024-12-06T13:35:46.586978Z",
     "start_time": "2024-12-06T13:35:40.622880Z"
    }
   },
   "source": [
    "import data_inladen as di\n",
    "\n",
    "# Base file path\n",
    "base_path = \"../../OneDrive - HvA/Jaar_4/PV systems modeling and analysis/Data/data_folder\"\n",
    "\n",
    "# Specify the months and CSV types you want to load\n",
    "selected_months = [\"2019_01\", \"2019_02\", \"2022_03\"]  # Include the problematic month\n",
    "selected_csvs = [\"IVCurves\", \"LightSpectra\"]  # Include all desired CSV types\n",
    "\n",
    "# Load the data with debugging enabled\n",
    "loaded_data = di.load_data(base_path, selected_months, selected_csvs, debug=True)\n",
    "\n",
    "# Display a preview of the loaded data\n",
    "print(\"\\nLoaded Data Structure Overview:\")\n",
    "for year, months in loaded_data.items():\n",
    "    print(f\"Year: {year}\")\n",
    "    for month, month_data in months.items():\n",
    "        print(f\"  Month: {month}\")\n",
    "        for csv_type, df in month_data.items():\n",
    "            print(f\"    {csv_type}: {len(df)} rows\")\n"
   ],
   "outputs": [
    {
     "name": "stdout",
     "output_type": "stream",
     "text": [
      "Master folder exists: ..\\..\\OneDrive - HvA\\Jaar_4\\PV systems modeling and analysis\\Data\\data_folder: Yes\n",
      "Directory exists: ..\\..\\OneDrive - HvA\\Jaar_4\\PV systems modeling and analysis\\Data\\data_folder\\2019_V3\\2019_01: Yes\n",
      "File exists: ..\\..\\OneDrive - HvA\\Jaar_4\\PV systems modeling and analysis\\Data\\data_folder\\2019_V3\\2019_01\\IVCurves-2019_01.csv: Yes\n",
      "File exists: ..\\..\\OneDrive - HvA\\Jaar_4\\PV systems modeling and analysis\\Data\\data_folder\\2019_V3\\2019_01\\LightSpectra- 2019_01.csv: Yes\n",
      "Directory exists: ..\\..\\OneDrive - HvA\\Jaar_4\\PV systems modeling and analysis\\Data\\data_folder\\2019_V3\\2019_02: Yes\n",
      "File exists: ..\\..\\OneDrive - HvA\\Jaar_4\\PV systems modeling and analysis\\Data\\data_folder\\2019_V3\\2019_02\\IVCurves-2019_02.csv: Yes\n",
      "File exists: ..\\..\\OneDrive - HvA\\Jaar_4\\PV systems modeling and analysis\\Data\\data_folder\\2019_V3\\2019_02\\LightSpectra- 2019_02.csv: Yes\n",
      "Directory exists: ..\\..\\OneDrive - HvA\\Jaar_4\\PV systems modeling and analysis\\Data\\data_folder\\2022_V3\\2022_03: Yes\n",
      "File exists: ..\\..\\OneDrive - HvA\\Jaar_4\\PV systems modeling and analysis\\Data\\data_folder\\2022_V3\\2022_03\\IVCurves-2022_03.csv: Yes\n",
      "File exists: ..\\..\\OneDrive - HvA\\Jaar_4\\PV systems modeling and analysis\\Data\\data_folder\\2022_V3\\2022_03\\LightSpectra- 2022_03.csv: Yes\n",
      "\n",
      "Loaded Data Structure Overview:\n",
      "Year: 2019\n",
      "  Month: 2019_01\n",
      "    IVCurves: 8928 rows\n",
      "    LightSpectra: 8928 rows\n",
      "  Month: 2019_02\n",
      "    IVCurves: 8064 rows\n",
      "    LightSpectra: 8064 rows\n",
      "Year: 2022\n",
      "  Month: 2022_03\n",
      "    IVCurves: 8928 rows\n",
      "    LightSpectra: 8928 rows\n"
     ]
    }
   ],
   "execution_count": 2
  },
  {
   "metadata": {
    "ExecuteTime": {
     "end_time": "2024-12-06T13:30:10.085821400Z",
     "start_time": "2024-12-04T13:03:24.000364Z"
    }
   },
   "cell_type": "code",
   "source": "",
   "id": "47037d3e890b74f4",
   "outputs": [
    {
     "data": {
      "text/plain": [
       "True"
      ]
     },
     "execution_count": 14,
     "metadata": {},
     "output_type": "execute_result"
    }
   ],
   "execution_count": 14
  },
  {
   "metadata": {},
   "cell_type": "code",
   "outputs": [],
   "execution_count": null,
   "source": "",
   "id": "586db6eb125c4726"
  }
 ],
 "metadata": {
  "kernelspec": {
   "display_name": "Python 3",
   "language": "python",
   "name": "python3"
  },
  "language_info": {
   "codemirror_mode": {
    "name": "ipython",
    "version": 2
   },
   "file_extension": ".py",
   "mimetype": "text/x-python",
   "name": "python",
   "nbconvert_exporter": "python",
   "pygments_lexer": "ipython2",
   "version": "2.7.6"
  }
 },
 "nbformat": 4,
 "nbformat_minor": 5
}
